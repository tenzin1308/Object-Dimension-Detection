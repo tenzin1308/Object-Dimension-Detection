{
 "cells": [
  {
   "cell_type": "code",
   "execution_count": 1,
   "id": "d166b3cc",
   "metadata": {},
   "outputs": [],
   "source": [
    "import cv2\n",
    "import numpy as np"
   ]
  },
  {
   "cell_type": "code",
   "execution_count": 2,
   "id": "286667b7",
   "metadata": {},
   "outputs": [],
   "source": [
    "webcam = True\n",
    "path = '1.jpg'\n",
    "cap = cv2.VideoCapture(0) # webcam 1\n",
    "cap.set(10,160) # brightness\n",
    "cap.set(3,1920) # width\n",
    "cap.set(4,1080) # height\n",
    "scale = 3\n",
    "wP = 210 * scale\n",
    "hP = 297 * scale"
   ]
  },
  {
   "cell_type": "code",
   "execution_count": 3,
   "id": "9aca9d58",
   "metadata": {},
   "outputs": [],
   "source": [
    "def getContours(img, cThr=[100,100], minArea=1000, filter=0, showCanny=False, showThre=False, draw=False):\n",
    "    imgGray = cv2.cvtColor(img, cv2.COLOR_BGR2GRAY)\n",
    "    imgBlur = cv2.GaussianBlur(imgGray, (5,5), 1)\n",
    "    imgCanny = cv2.Canny(imgBlur, cThr[0], cThr[1])\n",
    "    if showCanny: cv2.imshow('Canny', imgCanny)\n",
    "    \n",
    "    kernel = np.ones((5,5))\n",
    "    imgDial = cv2.dilate(imgCanny, kernel, iterations=3)\n",
    "    imgThre = cv2.erode(imgDial, kernel, iterations=2)\n",
    "    if showThre: cv2.imshow('Thre', imgThre)\n",
    "    \n",
    "    contours, hiearchy = cv2.findContours(imgThre, cv2.RETR_EXTERNAL, cv2.CHAIN_APPROX_SIMPLE)\n",
    "    finalCountours = []\n",
    "    for contour in contours:\n",
    "        area = cv2.contourArea(contour)\n",
    "        if area > minArea:\n",
    "            peri = cv2.arcLength(contour, True)\n",
    "            approx = cv2.approxPolyDP(contour, 0.02*peri, True)\n",
    "            bbox = cv2.boundingRect(approx)\n",
    "            if filter > 0:\n",
    "                if len(approx) == filter:\n",
    "                    finalCountours.append([len(approx), area, approx, bbox, contour])\n",
    "            else:\n",
    "                finalCountours.append([len(approx), area, approx, bbox, contour])\n",
    "    \n",
    "    finalCountours = sorted(finalCountours, key=lambda x:x[1], reverse=True)\n",
    "    \n",
    "    if draw:\n",
    "        for contour in finalCountours:\n",
    "            cv2.drawContours(img, contour[4], -1, (0,0,255), 3)\n",
    "    \n",
    "    return img, finalCountours"
   ]
  },
  {
   "cell_type": "code",
   "execution_count": 4,
   "id": "07e1bd86",
   "metadata": {},
   "outputs": [],
   "source": [
    "def reOrder(points):\n",
    "    resultPoints = np.zeros_like(points)\n",
    "    points = points.reshape((4,2))\n",
    "    add = points.sum(1)\n",
    "    resultPoints[0] = points[np.argmin(add)]\n",
    "    resultPoints[3] = points[np.argmax(add)]\n",
    "    diff = np.diff(points, axis=1)\n",
    "    resultPoints[1] = points[np.argmin(diff)]\n",
    "    resultPoints[2] = points[np.argmax(diff)]\n",
    "    return resultPoints"
   ]
  },
  {
   "cell_type": "code",
   "execution_count": 5,
   "id": "3223cbb7",
   "metadata": {},
   "outputs": [],
   "source": [
    "def warpImg(img, points, width, height, pad=20):\n",
    "    points = reOrder(points)\n",
    "    pts1 = np.float32(points)\n",
    "    pts2 = np.float32([[0,0], [width,0], [0,height], [width,height]])\n",
    "    matrix = cv2.getPerspectiveTransform(pts1, pts2)\n",
    "    imgWarp = cv2.warpPerspective(img, matrix, (width,height))\n",
    "    imgWarp = imgWarp[pad:imgWarp.shape[0]-pad, pad:imgWarp.shape[1]-pad]\n",
    "    return imgWarp"
   ]
  },
  {
   "cell_type": "code",
   "execution_count": 6,
   "id": "1185c8ca",
   "metadata": {},
   "outputs": [],
   "source": [
    "def findDistance(pts1,pts2):\n",
    "    return ((pts2[0]-pts1[0])**2 + (pts2[1]-pts1[1])**2)**0.5"
   ]
  },
  {
   "cell_type": "code",
   "execution_count": 7,
   "id": "0ece56d7",
   "metadata": {},
   "outputs": [],
   "source": [
    "while True:\n",
    "    if webcam: success, frame = cap.read()\n",
    "    else: frame = cv2.imread(path)\n",
    "    \n",
    "    frame, finalCountours = getContours(frame,minArea=50000, filter=4)\n",
    "    \n",
    "    if len(finalCountours) != 0:\n",
    "        biggest = finalCountours[0][2]\n",
    "        imgWarp = warpImg(frame, biggest, wP, hP)\n",
    "#         cv2.imshow('A4', imgWarp)\n",
    "    \n",
    "        innerFrame, countours2 = getContours(imgWarp, minArea=2000, filter=4, cThr=[50,50])\n",
    "#         cv2.imshow('Inner Contour', innerFrame)\n",
    "        \n",
    "        if len(countours2) != 0:\n",
    "            for obj in countours2:\n",
    "                cv2.polylines(innerFrame, [obj[2]], True, (0,255,0), 2)\n",
    "                nPoints = reOrder(obj[2])\n",
    "                nW = round(findDistance(nPoints[0,0]//scale, nPoints[1][0]//scale)/10,1)\n",
    "                nH = round(findDistance(nPoints[0,0]//scale, nPoints[2][0]//scale)/10,1)\n",
    "                \n",
    "                cv2.arrowedLine(innerFrame, (nPoints[0][0][0], nPoints[0][0][1]), (nPoints[1][0][0], nPoints[1][0][1]),\n",
    "                                (255, 0, 255), 3, 8, 0, 0.05)\n",
    "                cv2.arrowedLine(innerFrame, (nPoints[0][0][0], nPoints[0][0][1]), (nPoints[2][0][0], nPoints[2][0][1]),\n",
    "                                (255, 0, 255), 3, 8, 0, 0.05)\n",
    "                x, y, w, h = obj[3]\n",
    "                cv2.putText(innerFrame, '{}cm'.format(nW), (x + 30, y - 10), cv2.FONT_HERSHEY_COMPLEX_SMALL, 1.5,\n",
    "                            (255, 0, 255), 2)\n",
    "                cv2.putText(innerFrame, '{}cm'.format(nH), (x - 70, y + h // 2), cv2.FONT_HERSHEY_COMPLEX_SMALL, 1.5,\n",
    "                            (255, 0, 255), 2)\n",
    "        \n",
    "        cv2.imshow('Draw Line', innerFrame)\n",
    "#     img = cv2.resize(frame, (0,0), None, 0.5, 0.5)\n",
    "#     cv2.imshow('Original', frame)\n",
    "#     cv2.imshow('Draw Line', frame)\n",
    "    if cv2.waitKey(1) & 0xFF == ord('q'):\n",
    "        break\n",
    "# After the loop release the cap object\n",
    "cap.release()\n",
    "# Destroy all the windows\n",
    "cv2.destroyAllWindows()"
   ]
  },
  {
   "cell_type": "code",
   "execution_count": null,
   "id": "6539c329",
   "metadata": {},
   "outputs": [],
   "source": []
  },
  {
   "cell_type": "code",
   "execution_count": null,
   "id": "00953b39",
   "metadata": {},
   "outputs": [],
   "source": []
  }
 ],
 "metadata": {
  "kernelspec": {
   "display_name": "Python 3 (ipykernel)",
   "language": "python",
   "name": "python3"
  },
  "language_info": {
   "codemirror_mode": {
    "name": "ipython",
    "version": 3
   },
   "file_extension": ".py",
   "mimetype": "text/x-python",
   "name": "python",
   "nbconvert_exporter": "python",
   "pygments_lexer": "ipython3",
   "version": "3.9.7"
  }
 },
 "nbformat": 4,
 "nbformat_minor": 5
}
